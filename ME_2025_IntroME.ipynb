{
  "nbformat": 4,
  "nbformat_minor": 0,
  "metadata": {
    "colab": {
      "provenance": [],
      "toc_visible": true,
      "authorship_tag": "ABX9TyPI9GR7CKmMF0zYIPImJlNL",
      "include_colab_link": true
    },
    "kernelspec": {
      "name": "python3",
      "display_name": "Python 3"
    },
    "language_info": {
      "name": "python"
    }
  },
  "cells": [
    {
      "cell_type": "markdown",
      "metadata": {
        "id": "view-in-github",
        "colab_type": "text"
      },
      "source": [
        "<a href=\"https://colab.research.google.com/github/droyktton/clases_ME_IB/blob/main/ME_2025_IntroME.ipynb\" target=\"_parent\"><img src=\"https://colab.research.google.com/assets/colab-badge.svg\" alt=\"Open In Colab\"/></a>"
      ]
    },
    {
      "cell_type": "markdown",
      "source": [
        "# [Introducción a la Mecánica Estadística](https://colab.research.google.com/drive/1rrjChf9DzNF4-XgNXhbzq8yHFmWSRQzX?usp=sharing)\n",
        "\n",
        "\n",
        "\n",
        "\n"
      ],
      "metadata": {
        "id": "0d79TWEYhOjb"
      }
    },
    {
      "cell_type": "markdown",
      "source": [
        "## Tomemos aire ..."
      ],
      "metadata": {
        "id": "p5hJlPWxtIWo"
      }
    },
    {
      "cell_type": "markdown",
      "source": [
        "### ¿Cuántas moléculas hay en esta botella?\n",
        "\n",
        "Supongamos que tenemos una botellita plástica de volumen $V = 1000\\, \\text{cm}^3 = 10^{-3}\\, \\text{m}^3$, cerrada, con aire a temperatura ambiente $T = 298\\, \\text{K}$ (25°C) y presión atmosférica $P = 1.01 \\times 10^5\\, \\text{Pa}$. ¿Cuántas moléculas hay adentro?\n",
        "\n",
        "Usamos la ecuación de estado del gas ideal:\n",
        "\n",
        "$$\n",
        "PV = N k_B T\n",
        "$$\n",
        "\n",
        "donde:\n",
        "\n",
        "- $N$ es el número total de **moléculas** (no moles),\n",
        "- $k_B$ es la constante de Boltzmann.\n",
        "\n",
        "Resolviendo para $N$:\n",
        "\n",
        "$$\n",
        "N = \\frac{PV}{k_B T}\n",
        "$$\n",
        "\n",
        "Sustituyendo los valores numéricos:\n",
        "\n",
        "- $P = 1.01 \\times 10^5\\, \\text{Pa}$\n",
        "- $V = 10^{-3}\\, \\text{m}^3$\n",
        "- $T = 298\\, \\text{K}$\n",
        "- $k_B = 1.380649 \\times 10^{-23}\\, \\text{J/K}$\n",
        "\n",
        "Entonces:\n",
        "\n",
        "$$\n",
        "N = \\frac{(1.01 \\times 10^5)(10^{-3})}{(1.380649 \\times 10^{-23})(298)} \\approx 2.45 \\times 10^{22}\n",
        "$$\n",
        "\n",
        "¡Más de $10^{22}$ moléculas en una simple botella de aire!\n",
        "\n",
        "#### Relación entre $R$, $N_A$ y $k_B$\n",
        "\n",
        "A veces usamos la versión molar de la ecuación de estado:\n",
        "\n",
        "$$\n",
        "PV = nRT\n",
        "$$\n",
        "\n",
        "donde:\n",
        "\n",
        "- $n$ es el número de **moles**,\n",
        "- $R$ es la constante de los gases ideales:  \n",
        "  $$\n",
        "  R = 8.314462618\\, \\text{J/(mol·K)}\n",
        "  $$\n",
        "\n",
        "Estas dos formas están relacionadas porque:\n",
        "\n",
        "$$\n",
        "R = N_A k_B\n",
        "$$\n",
        "\n",
        "donde:\n",
        "\n",
        "- $N_A = 6.02214076 \\times 10^{23}\\, \\text{mol}^{-1}$ es el **número de Avogadro**,\n",
        "- $k_B = 1.380649 \\times 10^{-23}\\, \\text{J/K}$ es la constante de Boltzmann.\n",
        "\n",
        "Esta relación te permite pasar entre el punto de vista \"microscópico\" (moléculas individuales, $k_B$) y el \"macroscópico\" (moles, $R$).\n",
        "\n",
        "\n",
        "Con estos datos, también podés estimar cuántas moléculas de cada tipo hay. Por ejemplo, si el [aire](https://en.wikipedia.org/wiki/Atmosphere_of_Earth) es aproximadamente 78% $\\text{N}_2$, 21% $\\text{O}_2$, y 1% otros (incluyendo $\\text{CO}_2$):\n",
        "\n",
        "- $N_{\\text{N}_2} \\approx 0.78 \\times N \\approx 1.9 \\times 10^{22}$\n",
        "- $N_{\\text{O}_2} \\approx 0.21 \\times N \\approx 5.1 \\times 10^{21}$\n",
        "- $N_{\\text{otros}} \\approx 0.01 \\times N \\approx 2.5 \\times 10^{20}$\n",
        "\n",
        "Todo eso, ¡en un litro de aire!\n",
        "\n",
        "#### Comparaciones de escala\n",
        "\n",
        "| Cantidad                                          | Número aproximado           |\n",
        "| ------------------------------------------------- | --------------------------- |\n",
        "| **Moléculas en 1 litro de aire**                  | \\$2.45 \\times 10^{22}\\$     |\n",
        "| **Estrellas en el universo observable**           | \\$\\sim 10^{22}\\$            |\n",
        "| **Átomos en un cuerpo humano (\\~70 kg)**          | \\$\\sim 7 \\times 10^{27}\\$   |\n",
        "| **Células en un cuerpo humano**                   | \\$\\sim 3 \\times 10^{13}\\$   |\n",
        "| **Neuronas en un cerebro humano**                 | \\$\\sim 10^{11}\\$            |\n",
        "| **Sinapsis en un cerebro humano**                 | \\$\\sim 10^{14}\\$            |\n",
        "| **Bacterias en un ser humano promedio**           | \\$\\sim 4 \\times 10^{13}\\$   |\n",
        "| **Granos de arena en todas las playas del mundo** | \\$\\sim 10^{20}\\$            |\n",
        "| **Bits en un disco duro de 1 TB**                 | \\$8 \\times 10^{12}\\$        |\n",
        "| **Fotones del fondo cósmico por metro cúbico**    | \\$\\sim 4 \\times 10^{8}\\$    |\n",
        "| **Genes codificantes en el genoma humano**        | \\$\\sim 2 \\times 10^{4}\\$    |\n",
        "| **Población mundial (2025)**                      | \\$\\sim 8 \\times 10^{9}\\$    |\n",
        "| **Segundos desde el Big Bang**                    | \\$\\sim 4.3 \\times 10^{17}\\$ |\n",
        "| **Velocidad de reloj de una CPU moderna (Hz)**    | \\$\\sim 10^{9}\\$             |\n",
        "| **Número estimado de páginas web indexadas**      | \\$\\sim 10^{10}\\$            |\n",
        "| **Constante de Avogadro**                         | \\$6.022 \\times 10^{23}\\$    |\n",
        "\n",
        "Y así como hay un número enorme de moléculas en un litro de gas, también hay un número enorme de electrones de conducción en un metal y ni que hablar en ciertas estrellas, como las enanas blancas, o el número de núcleos atomicos en un sólido macroscópico."
      ],
      "metadata": {
        "id": "7p5q9hOBqvVW"
      }
    },
    {
      "cell_type": "markdown",
      "source": [
        "> 📌 Evidentemente entonces, no solo es imporsible sino que no nos interesa en general lo que hacen exactamente $10^{22}$ partículas, o sus *microestados* sino lo que hacen colectivamente y podemos medir más fácilmente, es decir sus *macroestados*."
      ],
      "metadata": {
        "id": "CWWpB2_Ig6VI"
      }
    },
    {
      "cell_type": "markdown",
      "source": [
        "### ¿Qué es un microestado? ¿Qué es un macroestado?\n",
        "\n",
        "- Un **microestado** especifica completamente el estado microscópico del sistema: las posiciones y velocidades (o momentos) de todas las moléculas del gas. Es un punto en el espacio de fases.\n",
        "\n",
        "- Un **macroestado** se define por variables macroscópicas (presión, volumen, temperatura, etc.) que no especifican completamente el microestado, pero que pueden medirse directamente.\n",
        "\n",
        "Muchísimos microestados pueden ser compatibles con un mismo macroestado.\n",
        "\n",
        "\n",
        "### Cómo se usan las probabilidades de los microestados para calcular $P$, $V$ y $T$\n",
        "\n",
        "En mecánica estadística, un sistema físico (como el aire en la botellita) está descrito en detalle por sus **microestados**. Cada microestado es una configuración específica de todas las posiciones y velocidades de las moléculas:\n",
        "\n",
        "$$\n",
        "\\text{microestado} = (r_1, r_2, \\dots, r_N; \\, v_1, v_2, \\dots, v_N)\n",
        "$$\n",
        "\n",
        "No podemos saber exactamente en cuál microestado está el sistema en un momento dado, pero podemos asignar una **probabilidad** $p(r_1, \\dots, v_N)$ a cada microestado, que expresa qué tan probable es que el sistema se encuentre en esa configuración.\n",
        "\n",
        "#### Promedios estadísticos y variables macroscópicas\n",
        "\n",
        "Las propiedades macroscópicas como la presión ($P$), el volumen ($V$) y la temperatura ($T$) son resultados promedio de muchas moléculas, es decir, **promedios estadísticos** sobre todos los microestados posibles, ponderados por sus probabilidades.\n",
        "\n",
        "Por ejemplo, para una propiedad física cualquiera $A$ que dependa del microestado (como la energía cinética total, o la fuerza ejercida sobre las paredes de la botella), su valor esperado es\n",
        "\n",
        "$$\n",
        "\\langle A \\rangle = \\sum_{\\text{microestados}} p(\\text{microestado}) \\, A(\\text{microestado})\n",
        "$$\n",
        "\n",
        "En un sistema clásico con muchas partículas, este sumatorio se vuelve una integral sobre un espacio de muchas dimensiones.\n",
        "\n",
        "#### Cálculo de presión y temperatura\n",
        "\n",
        "- **Presión $P$:**  \n",
        "La presión surge del **impulso** que las moléculas transfieren al chocar con las paredes del recipiente. En cada microestado, podemos calcular la fuerza total sobre la pared a partir de las posiciones y velocidades de las moléculas. La presión es el promedio estadístico de esa fuerza por unidad de área, es decir,\n",
        "\n",
        "$$\n",
        "P = \\langle \\text{fuerza por unidad de área} \\rangle = \\sum_{\\text{microestados}} p(\\text{microestado}) \\, P(\\text{microestado})\n",
        "$$\n",
        "\n",
        "- **Temperatura $T$:**  \n",
        "Microscópicamente, la temperatura está relacionada con la energía cinética promedio de las moléculas. Para cada microestado, la energía cinética total es\n",
        "\n",
        "$$\n",
        "E_{\\text{cin}} = \\frac{1}{2} m \\sum_{i=1}^N v_i^2\n",
        "$$\n",
        "\n",
        "La temperatura está definida a través del promedio de esta energía cinética por grado de libertad, por ejemplo en 3D para partículas clásicas:\n",
        "\n",
        "$$\n",
        "\\frac{3}{2} N k_B T = \\langle E_{\\text{cin}} \\rangle = \\sum_{\\text{microestados}} p(\\text{microestado}) \\, E_{\\text{cin}}(\\text{microestado})\n",
        "$$\n",
        "\n",
        "Así, conocer la distribución de probabilidades $p(\\text{microestado})$ permite obtener la temperatura promedio del sistema.\n",
        "\n",
        "- **Volumen $V$:**  \n",
        "En este ejemplo, el volumen está fijado por el recipiente (la botellita), y no depende del microestado. Pero en sistemas más complejos, como gases en pistones, el volumen también puede considerarse variable y estar relacionado con la probabilidad de microestados que corresponden a diferentes configuraciones espaciales.\n",
        "\n",
        "\n",
        "> 📌 En resumen, **las cantidades macroscópicas que medimos son promedios estadísticos sobre los microestados posibles**, y la mecánica estadística nos da el marco para calcular esos promedios a partir de la distribución de probabilidades $p(\\text{microestado})$. Así es como el conocimiento microscópico probabilístico se traduce en predicciones macroscópicas.\n",
        "\n"
      ],
      "metadata": {
        "id": "zCckPFN6tBCI"
      }
    },
    {
      "cell_type": "markdown",
      "source": [
        "## ¿Qué es la Mecánica Estadística?\n",
        "\n",
        "La Mecánica Estadística es el área de la física que, a partir de cierta información **microscópica** sobre un sistema dado, utiliza teoría de probabilidades para explicar o predecir sus propiedades macroscópicas o promedio y las fluctuaciones alrededor de las mismas.\n",
        "\n",
        "- La información **microscópica** no se refiere necesariamente a una escala de longitud, sino al conjunto de variables o grados de libertad que describen completamente al sistema al máximo detalle conocido. A cada configuración de esas variables se la llama **microestado**.\n",
        "\n",
        "- Un **modelo microscópico** especifica, por un lado, **cómo interactúan entre sí** esos grados de libertad, y por otro, **cómo evolucionan en el tiempo**. En la **mecánica estadística de equilibrio**, la dinámica puede ser irrelevante, ya que el objetivo es caracterizar las propiedades estacionarias del sistema a partir de la probabilidad de los microestados. En cambio, en la **mecánica estadística fuera del equilibrio**, la evolución temporal de los microestados cobra un rol central.\n",
        "\n",
        "- Estrictamente hablando, vale la pena notar que lo que se utiliza es **probabilidad**, y no **estadística** en el sentido usual de análisis de datos. No buscamos inferir propiedades a partir de grandes volúmenes de datos experimentales (o simulados numéricamente), sino deducirlas a partir de distribuciones de probabilidad derivadas *directamente* del modelo microscópico. En este sentido, algunos argumentan que sería más apropiado llamarla *Mecánica Probabilística*.\n",
        "\n",
        "> 📌 En síntesis, y más filosóficamente, la mecánica estadística es una *forma de pensar la física cuando la complejidad y la incertidumbre son la norma*, no la excepción. Y una forma de explicar y predecir el comportamiento de sistemas complejos.\n"
      ],
      "metadata": {
        "id": "-sVKD6zoitg5"
      }
    },
    {
      "cell_type": "markdown",
      "source": [
        "\n",
        "## ¿Por qué necesitamos una Mecánica Estadística?\n",
        "\n",
        "Ya contamos con teorías fundamentales como la mecánica clásica, el electromagnetismo, la relatividad general, la mecánica cuántica o la teoría de campos cuántica o clásica, que permiten predecir de forma determinista el comportamiento de diversos sistemas físicos. Entonces, ¿por qué necesitamos otra herramienta más, y usar una matemática distinta?\n",
        "\n",
        "La razón es que en la gran mayoría de los casos, aunque conociéramos el modelo microscópico exacto, por un lado **no podríamos resolver con precisión las ecuaciones de movimiento** y por el otro, aún si pudiéramos hacerlo aunque sea aproximadamente, **en la práctica no necesitamos tanto detalle, sino que queremos capturar el comportamiento colectivo**.\n",
        "\n",
        "- Los sistemas con muchos grados de libertad interactuantes, en general, no tienen soluciones analíticas. La principal dificultad es que suelen ser **no lineales** y no se pueden descomponer fácilmente en partes independientes.\n",
        "\n",
        "- Incluso cuando intentamos simular numéricamente estos sistemas, los métodos disponibles tienen severas limitaciones en cuanto al número de grados de libertad, especialmente en el caso de sistemas cuánticos. Estamos aún *muy lejos* de poder simular numéricamente sistemas macroscópicos con **fidelidad** completa, sean estos clásicos o cuánticos.\n",
        "\n",
        "- Es prácticamente imposible conocer o preparar de manera perfecta las condiciones iniciales de un sistema real, cuántico o clásico y sumado a esto, los sistemas en general presentan alta sensibilidad a las condiciones iniciales, es decir que son **caóticos**.\n",
        "\n",
        "- Las condiciones de contorno involucran, por lo general, la interacción con un **entorno externo**, que típicamente tiene muchos más grados de libertad, que perturba al sistema de estudio de una manera que solo podemos abordar probabilisticamente.\n",
        "\n",
        "- Pero aún, si pudiésemos aislar casi perfectamente un sistema dado, y resolver sus ecuaciones de movimiento de una manera aceptable, el mismo modelo microscópico ya es una aproximación, de modo que las predicciones que hagamos deberían tener un cierto grado de robustez. El enfoque probabilístico es exitoso en este sentido, revelando **universalidades**.\n",
        "\n",
        "> 📌 Frente a estas limitaciones, **introducir probabilidades** no es una elección arbitraria, sino una **necesidad**: modelamos la incertidumbre inevitable en nuestra descripción del sistema.\n",
        "\n"
      ],
      "metadata": {
        "id": "EJ3KIvD1ix7X"
      }
    },
    {
      "cell_type": "markdown",
      "source": [
        "## ¿Para qué sirve la Mecánica Estadística?\n",
        "\n",
        "Uno podría pensar que usar probabilidades implica mermar la capacidad predictiva, cuantitativa, de la física...\n",
        "\n",
        "En realidad ocurre lo contrario: el uso de herramientas estadísticas **amplía y fortalece** la capacidad predictiva de la física en sistemas complejos, y en una forma **cuantitativa**. La probabilidad es *una forma de precisión* cuando hay incertidumbre. La física estadística no renuncia a la predicción cuantitativa, sino que adapta lo que significa predecir cuando el conocimiento completo del sistema es inalcanzable.\n",
        "\n",
        "La Mecánica Estadística nos permite **calcular propiedades físicas** de un sistema dado a partir de un modelo microscópico, utilizando un marco probabilístico (basado en la teoría de los ensembles) para describir los microestados.\n",
        "\n",
        "Aunque ya contamos con teorías eficaces como la **termodinámica** o la **hidrodinámica** que permiten hacer predicciones sin conocer los detalles microscópicos de los sistemas, estas se centran en propiedades promedio, de *grano grueso* o globales, usualmente válidas a escalas macroscópicas o mesoscópicas. Y gracias a estas teorías que relacionan y describen la evolución de variables a escala macroscópica, hemos podido desarrollar una enorme cantidad de tecnología.\n",
        "\n",
        "Entonces, ¿por qué es necesaria la Mecánica Estadística?\n",
        "\n",
        "- **Porque proporciona el puente entre la descripción microscópica y las teorías macroscópicas.**\n",
        "\n",
        "- Nos permite **cuantificar las fluctuaciones** alrededor de los valores promedio. En muchos casos, como cerca de una **transición de fase** o en **sistemas pequeños**, las fluctuaciones no pueden ser despreciadas y son esenciales para comprender el comportamiento del sistema.\n",
        "\n",
        "- Las teorías fenomenológicas como la termodinámica contienen **parámetros que deben ser determinados experimentalmente**, como las ecuaciones constitutivas o los coeficientes de transporte (viscosidad, conductividad, etc.). La Mecánica Estadística permite calcularlos a partir de un modelo microscópico, lo que abre la puerta al diseño de **nuevos materiales** con propiedades deseadas.\n",
        "\n",
        "- Es la base de disciplinas como la **física de la materia condensada**, la **astrofísica** y otras áreas interdisciplinarias, incluyendo la biología estadística, la economía y la teoría de la información.\n",
        "\n",
        "- **Históricamente**, la Mecánica Estadística fue crucial para el desarrollo de la Mecánica Cuántica. Ideas como la cuantización de la energía surgieron, en parte, de la necesidad de explicar fenómenos estadísticos como la radiación del cuerpo negro.\n",
        "\n",
        "* La mecánica estadística permite dar una **interpretación microscopica al concepto de entropia**, de temperatura, de equilibracion térmica, y a las leyes de la Termodinámica, en particular la segunda y la tercera ley.\n",
        "\n",
        "* La mecánica estadística permite descubrir comportamientos **universales**, que no dependen de los detalles microscopicos y encontrar los modelos minimales que los producen.\n",
        "\n",
        "> 📌 El gran físico Lev Davidovich Landau decía algo así como \"*Un método es más importante que un descubrimiento, porque el método correcto conduce a descubrimientos nuevos y aún más importantes*\""
      ],
      "metadata": {
        "id": "vA9f21X0i2FB"
      }
    },
    {
      "cell_type": "markdown",
      "source": [
        "## Importancia histórica\n",
        "La mecánica estadística tiene una importancia histórica fundamental en la historia de toda la física. No solo revolucionó nuestra comprensión del mundo microscópico, sino que también estableció puentes con muchos otros campos.\n",
        "\n",
        "* Surgió junto con la teoría atómica, en una época en la que muchos —incluso científicos prestigiosos— aún no creían en la existencia real de los átomos.\n",
        "\n",
        "* Fue \"certificada\" por la termodinámica, a través del trabajo de Clausius, Kelvin y otros, quienes establecieron leyes macroscópicas sin saber aún qué había debajo.\n",
        "\n",
        "* Resultó clave en el surgimiento de la mecánica cuántica (Planck, Einstein, Bose...), y mostró que lo cuántico era esencial también para entender el mundo macroscópico.\n",
        "\n",
        "* Dió origen a áreas como la física de la materia condensada, la astrofísica estadística, la física nuclear y de partículas, y muchas otras, permitiendo descubrimientos científicos que han impactado directamente en nuestras vidas.\n",
        "\n",
        "* Es, posiblemente, **la rama más interdisciplinaria de la física**, y fuente de inspiración para las ciencias que estudian cuantitativamente sistemas complejos: desde la biología y la economía, hasta las ciencias sociales y la *inteligencia artificial*.\n",
        "\n",
        "### Algunos protagonistas clave\n",
        "Muchos contribuyeron al desarrollo de la mecánica estadística, pero si tuviéramos que destacar algunos hitos fundamentales, podrían ser los siguientes:\n",
        "\n",
        "* [Daniel Bernoulli](https://en.wikipedia.org/wiki/Daniel_Bernoulli) (1700): Propuso que la presión de un gas podía entenderse como el resultado de colisiones de partículas diminutas contra las paredes de un recipiente —una idea revolucionaria en una época en la que la teoría atómica era altamente controvertida.\n",
        "\n",
        "* [James Clerk Maxwell](https://en.wikipedia.org/wiki/James_Clerk_Maxwell) (1831): Fundó la teoría cinética de los gases, y calculó la famosa distribución de velocidades que lleva su nombre. (Además, formuló la electrodinámica clásica).\n",
        "\n",
        "* [Ludwig Boltzmann](https://en.wikipedia.org/wiki/Ludwig_Boltzmann) (1844): Avanzó mucho más allá de la teoría cinética. Propuso una fórmula \"microscópica\" para la entropía, que está en [su epitafio](https://www.google.com/imgres?q=boltzmann%20grave&imgurl=https%3A%2F%2Ftuitionphysics.com%2Fwp-content%2Fuploads%2F2016%2F01%2FBoltzmann-and-Entropy.jpg&imgrefurl=https%3A%2F%2Ftuitionphysics.com%2F2016-jan%2Fof-boltzmann-and-entropy%2F&docid=SUqNdeQjGEA5XM&tbnid=R92ctg2uCqvdbM&vet=12ahUKEwj0ivCNt8mOAxWIRLgEHVmyEVEQM3oECBQQAA..i&w=500&h=377&hcb=2&ved=2ahUKEwj0ivCNt8mOAxWIRLgEHVmyEVEQM3oECBQQAA), y postuló la equiprobabilidad de microestados para sistemas aislados. Es uno de los pilares conceptuales de la disciplina.\n",
        "\n",
        "* [Josiah Willard Gibbs](https://en.wikipedia.org/wiki/Josiah_Willard_Gibbs) (1839): Sistematicó y generalizó el trabajo de Boltzmann y Maxwell. Conectó elegantemente la estadística con la termodinámica, y extendió la mecánica estadística a sistemas más allá de los gases.\n",
        "\n",
        "* [Albert Einstein](https://en.wikipedia.org/wiki/Albert_Einstein) (1879): Con su estudio del movimiento browniano, no solo confirmó la realidad de los átomos, sino que también dio un respaldo empírico a la teoría de Boltzmann-Gibbs y su conexión con la dinámica.\n",
        "\n",
        "* [Bose](https://en.wikipedia.org/wiki/Satyendra_Nath_Bose) (1894), [Pauli](https://en.wikipedia.org/wiki/Wolfgang_Pauli) (1900), [Fermi](https://en.wikipedia.org/wiki/Enrico_Fermi) (1901), [Dirac](https://en.wikipedia.org/wiki/Paul_Dirac) (1902), [Landau](https://en.wikipedia.org/wiki/Lev_Landau) (1908): Fusionaron la mecánica estadística con la mecánica cuántica, dando lugar a las estadísticas cuánticas que explican fenómenos como la superconductividad, la superfluidez o la estructura electrónica de los átomos.\n",
        "\n",
        "* [Lars Onsager](https://en.wikipedia.org/wiki/Lars_Onsager) (1903), [Kenneth Wilson](https://es.wikipedia.org/wiki/Kenneth_Geddes_Wilson) (1936): Desarrollaron herramientas analíticas fundamentales para el estudio de las transiciones de fase, incluyendo métodos exactos y el grupo de renormalización.\n",
        "\n",
        "* Avances contemporáneos (siglo XXI): Hoy, la mecánica estadística se complementa con técnicas numéricas altamente sofisticadas (simulaciones Monte Carlo, dinámica molecular, redes neuronales...) para abordar sistemas reales, desordenados y complejos.\n",
        "\n",
        "\n",
        "> 📌 En síntesis, sin la mecánica estadística, la ciencia moderna sería inconcebible. Es una piedra angular que sostiene tanto nuestra comprensión de lo microscópico como nuestras predicciones sobre lo macroscópico.\n",
        "\n"
      ],
      "metadata": {
        "id": "OLEWbqSSju7l"
      }
    },
    {
      "cell_type": "markdown",
      "source": [
        "## Subáreas de la Mecánica Estadística\n",
        "\n",
        "* Existe una **Mecánica Estadística de Equilibrio**, muy desarrollada, universal y exitosa, que nació con los trabajos de Boltzmann, Maxwell y Gibbs. Su propósito es predecir propiedades de sistemas en equilibrio termodinámico, un tipo particular de estado estacionario. Esta rama estudia las propiedades de estados donde la probabilidad de encontrar al sistema en un determinado microestado **no depende del tiempo ni de las condiciones iniciales**. La mecánica estadística de equilibrio establece un puente con la termodinámica, aunque en general **no resuelve el problema completo**, sino que **proporciona un marco confiable** para abordarlo. Sin embargo, hay casos particulares donde sí podemos realizar todos los cálculos, y sobre esos casos trata esta materia.\n",
        "\n",
        "* También existe una **Mecánica Estadística fuera del Equilibrio**, que podría considerarse incluso más importante, ya que la mayoría de los sistemas físicos reales están fuera del equilibrio. Sin embargo, esta área es **menos universal** y en muchos aspectos sigue siendo objeto de investigación activa, ya que **muchas preguntas fundamentales permanecen abiertas**. Su objetivo es estudiar tanto estados estacionarios de no-equilibrio (donde no siempre se aplica la termodinámica) como **estados no estacionarios**, donde las probabilidades de los microestados pueden **depender del tiempo** y de las **condiciones iniciales** (es decir, pueden tener memoria).\n",
        "\n",
        "\n",
        "* En el medio existe una  **Mecánica Estadística cerca del Equilibrio** que permite calcular propiedades de transporte, es decir dinámicas, a partir de propiedades de equilibrio, gracias a los denominados teoremas de fluctuación-disipación válidos en regímenes de respuesta lineal (campos externos pequeños). Con estas herramientas podemos por ejemplo, calcular la conductividad eléctrica o la $R$ en la ley de Ohm para distintos materiales o, como hizo Einstein en 1905 (entre otras [cositas](https://en.wikipedia.org/wiki/Annus_mirabilis_papers) como efecto fotoeléctrico, relatividad especial, equivalencia masa energía), la constante de difusión de partículas brownianas y así, con la confirmación experimental de Jean Perrin, el golpe final a los anti-átomos."
      ],
      "metadata": {
        "id": "mqb2e2rd8BoR"
      }
    },
    {
      "cell_type": "markdown",
      "source": [
        "## Mecánica Estadística y Sistemas Complejos\n",
        "\n",
        "Una de las enseñanzas más valiosas, y a la vez fundamental, de esta rama de la física es que **sistemas microscópicamente simples pueden mostrar comportamientos colectivos muy complejos**, y viceversa: **sistemas microscópicamente complejos pueden exhibir comportamientos emergentes sorprendentemente simples**.\n",
        "\n",
        "* Las **transiciones de fase** son un ejemplo de comportamiento emergente complejo que surge a partir de interacciones microscópicas simples, pero que no podemos a priori anticipar a partir de éstas.\n",
        "\n",
        "* Los **gases ideales** representan el caso contrario: muestran un comportamiento colectivo muy simple, a pesar de estar compuestos por átomos que, individualmente, pueden ser muy complejos.\n",
        "\n",
        "> En otras palabras, **el todo puede ser mucho más —o mucho menos!— que la suma de sus partes**. O mas precisamente, las propiedades colectivas de un sistema pueden ser mucho más ricas —o mucho más simples— que las de sus componentes individuales.\n",
        "\n"
      ],
      "metadata": {
        "id": "wFlaeQ4cjFuT"
      }
    },
    {
      "cell_type": "markdown",
      "source": [
        "[xkcd 😂](https://imgs.xkcd.com/comics/elementary_physics_paths_2x.png)"
      ],
      "metadata": {
        "id": "rphrGKTLrech"
      }
    },
    {
      "cell_type": "markdown",
      "source": [
        "## Mecánica estadística y simulación numérica\n",
        "\n",
        "La mecánica estadística tiene como objetivo derivar las propiedades macroscópicas de un sistema a partir de su descripción microscópica, utilizando herramientas teóricas como el cálculo de promedios, funciones de partición y entropías. Sin embargo, en la mayoría de los casos reales, la enorme cantidad de grados de libertad hace imposible realizar los cálculos de forma exacta o incluso aproximada por métodos puramente analíticos.\n",
        "\n",
        "Allí es donde la **simulación numérica** se convierte en una herramienta fundamental: permite estudiar sistemas complejos utilizando computadoras para generar muestras representativas de microestados, calcular promedios y explorar dinámicas.\n",
        "\n",
        "### ¿Cómo se complementan?\n",
        "\n",
        "* **La mecánica estadística proporciona el marco conceptual y las distribuciones de probabilidad** que deben respetarse (por ejemplo, la distribución de Boltzmann para sistemas en equilibrio).\n",
        "\n",
        "* **La simulación numérica genera muestras de microestados** siguiendo esas distribuciones (por ejemplo, usando el algoritmo de Metropolis-Hastings en el ensamble canónico).\n",
        "\n",
        "* **Los observables macroscópicos se estiman computacionalmente** como promedios sobre estas muestras:\n",
        "\n",
        "  $$\n",
        "  \\langle A \\rangle = \\sum_{\\text{microestados } i} A_i \\, p_i\n",
        "  $$\n",
        "\n",
        "  donde \\$p\\_i\\$ es la probabilidad (teórica o generada por la simulación) de observar el microestado \\$i\\$.\n",
        "\n",
        "### Ejemplos clásicos\n",
        "\n",
        "* **Simulaciones de Monte Carlo en sistemas de espines**, como el modelo de Ising.\n",
        "* **Dinámica molecular**, donde se resuelven las ecuaciones de movimiento de las partículas para estudiar el equilibrio o la dinámica.\n",
        "* **Métodos de Langevin o dinámica Browniana**, para incorporar efectos estocásticos o de interacción con un baño térmico.\n",
        "* **Simulación de gases o líquidos**, incluyendo la estimación de presiones, coeficientes de difusión y funciones de correlación.\n",
        "\n",
        "### Ventajas de la simulación numérica\n",
        "\n",
        "* Permite explorar modelos que no tienen solución analítica.\n",
        "* Ayuda a visualizar configuraciones, dinámicas y fluctuaciones.\n",
        "* Facilita el estudio de sistemas fuera del equilibrio.\n",
        "* Permite verificar predicciones teóricas y sugerir nuevas hipótesis.\n",
        "\n",
        "> 📌 En resumen, la simulación numérica **no reemplaza** a la mecánica estadística, sino que **la potencia y extiende**. Permite aplicar sus principios a sistemas concretos y realistas, donde el análisis teórico sería inabordable.\n",
        "\n"
      ],
      "metadata": {
        "id": "6rSyZMnUP9aX"
      }
    },
    {
      "cell_type": "markdown",
      "source": [
        "Un lindo ejemplo de simulación de un gas a partir de la resolución de las ecuaciones de Newton para muchas partículas interactuantes, usando la técnica de dinámica molecular, [aquí](https://www.falstad.com/gas/).\n",
        "\n",
        "Podemos ganar intuición mecanico estadística sobre muchas cosas con la simulación:\n",
        "\n",
        "* Equilibración térmica, condiciones iniciales.\n",
        "* Distribución de posiciones y velocidades.\n",
        "* Efecto del número de partículas, fluctuaciones.\n",
        "* Partícula browniana.\n",
        "* Efectos de campos externos.\n"
      ],
      "metadata": {
        "id": "pYJgbGVNRZgD"
      }
    },
    {
      "cell_type": "markdown",
      "source": [
        "## ¿Cómo se determina la probabilidad de un microestado?\n",
        "\n",
        "En mecánica estadística, uno de los objetivos centrales es asignar una **probabilidad** a cada posible **microestado** compatible con las condiciones macroscópicas del sistema. Esta asignación no es arbitraria: se basa en principios físicos y en criterios de consistencia lógica.\n",
        "\n",
        "A diferencia de la simulación numérica, donde los promedios son temporales, esperando así samplear con la probabilidad estacionaria de equilibrio a cada microestado permitido, en mecánica estadistica buscamos hacer cuentas analíticas con un modelo adecuando para la probabilidad de los microestados.\n",
        "\n",
        "### El principio fundamental: el de máxima entropía\n",
        "\n",
        "Supongamos que conocemos cierta información macroscópica sobre un sistema (por ejemplo, su energía total \\$E\\$). Hay muchas configuraciones microscópicas (microestados) compatibles con esa información.\n",
        "\n",
        "**¿Cómo asignar probabilidades a esos microestados?**\n",
        "\n",
        "La respuesta la da el **principio de máxima entropía**:\n",
        "\n",
        "> Entre todas las distribuciones de probabilidad posibles compatibles con la información disponible, debe elegirse aquella que **maximiza la entropía**.\n",
        "\n",
        "### ¿Qué es la entropía?\n",
        "\n",
        "La entropía en este contexto es la entropía de **Shannon**, definida para una distribución de probabilidades \\${p\\_i}\\$ sobre microestados como:\n",
        "\n",
        "$$\n",
        "S = -k_B \\sum_i p_i \\ln p_i\n",
        "$$\n",
        "\n",
        "donde \\$k\\_B\\$ es la constante de Boltzmann.\n",
        "\n",
        "Este es un principio muy poderoso: conecta la **incertidumbre** sobre el estado del sistema con una función matemática bien definida, y justifica la asignación probabilística desde la **teoría de la información**.\n",
        "\n",
        "\n",
        "### Conexión con la teoría de la información\n",
        "\n",
        "Se puede reinterpretar todo el formalismo estadístico desde el punto de vista de la **información faltante**. En esa visión:\n",
        "\n",
        "* El sistema tiene muchos microestados posibles.\n",
        "* El observador conoce sólo cierta información parcial (energía, volumen, número de partículas...).\n",
        "* La distribución que se adopta es aquella que **maximiza la ignorancia permitida**, es decir, que **no introduce información adicional innecesaria**.\n",
        "\n",
        "> 📌 Este enfoque estadístico-informacional es uno de los pilares conceptuales más profundos de la física moderna.\n",
        "\n"
      ],
      "metadata": {
        "id": "CzmtevOXk7T_"
      }
    }
  ]
}